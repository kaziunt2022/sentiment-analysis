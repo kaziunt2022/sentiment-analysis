{
  "nbformat": 4,
  "nbformat_minor": 0,
  "metadata": {
    "colab": {
      "name": "sentiment_analysis.ipynb",
      "provenance": [],
      "collapsed_sections": [],
      "authorship_tag": "ABX9TyNcxl+wyp3+qhJFEFuGiMYZ",
      "include_colab_link": true
    },
    "kernelspec": {
      "name": "python3",
      "display_name": "Python 3"
    },
    "language_info": {
      "name": "python"
    }
  },
  "cells": [
    {
      "cell_type": "markdown",
      "metadata": {
        "id": "view-in-github",
        "colab_type": "text"
      },
      "source": [
        "<a href=\"https://colab.research.google.com/github/kaziunt2022/sentiment-analysis/blob/main/sentiment_analysis.ipynb\" target=\"_parent\"><img src=\"https://colab.research.google.com/assets/colab-badge.svg\" alt=\"Open In Colab\"/></a>"
      ]
    },
    {
      "cell_type": "markdown",
      "metadata": {
        "id": "4iYNEFm0cbdm"
      },
      "source": [
        "**Libraries**"
      ]
    },
    {
      "cell_type": "code",
      "metadata": {
        "id": "ywI_sD3ZNPmN"
      },
      "source": [
        "import nltk\n",
        "import pandas as pd\n",
        "from sklearn.model_selection import train_test_split\n",
        "from sklearn.feature_extraction.text import TfidfVectorizer\n",
        "from sklearn.feature_extraction.text import TfidfTransformer\n",
        "from sklearn import svm\n",
        "from sklearn.naive_bayes import MultinomialNB\n",
        "from sklearn.pipeline import Pipeline\n",
        "from sklearn.metrics import classification_report\n",
        "from sklearn.linear_model import SGDClassifier\n",
        "from sklearn.tree import DecisionTreeClassifier\n",
        "from sklearn.linear_model import LogisticRegression\n",
        "from sklearn.ensemble import RandomForestClassifier"
      ],
      "execution_count": 53,
      "outputs": []
    },
    {
      "cell_type": "markdown",
      "metadata": {
        "id": "RuuUqtD7clJC"
      },
      "source": [
        "**Import CSV**"
      ]
    },
    {
      "cell_type": "code",
      "metadata": {
        "id": "Vv024aOCN4uM"
      },
      "source": [
        "data = pd.read_csv(\"https://raw.githubusercontent.com/kaziunt2022/sentiment-analysis/main/Comments%20With%20Sentiments.CSV\")"
      ],
      "execution_count": 54,
      "outputs": []
    },
    {
      "cell_type": "code",
      "metadata": {
        "colab": {
          "base_uri": "https://localhost:8080/",
          "height": 206
        },
        "id": "-cGC02WyO_-D",
        "outputId": "da31138b-d14b-4723-d02d-1c617d9eafb9"
      },
      "source": [
        "def absolute_sentiment(sentiment):\n",
        "  if sentiment==\"Positive\": return 1\n",
        "  elif sentiment==\"Negative\": return -1\n",
        "  else: return 0\n",
        "  \n",
        "data['Absolute Sentiments'] = data['Sentiments'].apply(absolute_sentiment)\n",
        "data.head()"
      ],
      "execution_count": 55,
      "outputs": [
        {
          "output_type": "execute_result",
          "data": {
            "text/html": [
              "<div>\n",
              "<style scoped>\n",
              "    .dataframe tbody tr th:only-of-type {\n",
              "        vertical-align: middle;\n",
              "    }\n",
              "\n",
              "    .dataframe tbody tr th {\n",
              "        vertical-align: top;\n",
              "    }\n",
              "\n",
              "    .dataframe thead th {\n",
              "        text-align: right;\n",
              "    }\n",
              "</style>\n",
              "<table border=\"1\" class=\"dataframe\">\n",
              "  <thead>\n",
              "    <tr style=\"text-align: right;\">\n",
              "      <th></th>\n",
              "      <th>CommectIds</th>\n",
              "      <th>Comments</th>\n",
              "      <th>Clean Comments</th>\n",
              "      <th>Sentiment Scores</th>\n",
              "      <th>Sentiments</th>\n",
              "      <th>Absolute Sentiments</th>\n",
              "    </tr>\n",
              "  </thead>\n",
              "  <tbody>\n",
              "    <tr>\n",
              "      <th>0</th>\n",
              "      <td>FINCEN-2017-0013-0023</td>\n",
              "      <td>Dear FINCEN,&lt;br/&gt;&lt;br/&gt;Any updates on money lau...</td>\n",
              "      <td>dear fincen update money laundering trump klep...</td>\n",
              "      <td>0.8658</td>\n",
              "      <td>Positive</td>\n",
              "      <td>1</td>\n",
              "    </tr>\n",
              "    <tr>\n",
              "      <th>1</th>\n",
              "      <td>FINCEN-2017-0013-0002</td>\n",
              "      <td>&amp;#39;GP hello AfterwordsI would like toReviewT...</td>\n",
              "      <td>gp hello afterwordsi would like toreviewthe pr...</td>\n",
              "      <td>0.3612</td>\n",
              "      <td>Positive</td>\n",
              "      <td>1</td>\n",
              "    </tr>\n",
              "    <tr>\n",
              "      <th>2</th>\n",
              "      <td>FINCEN-2017-0013-0024</td>\n",
              "      <td>Please see attached files.</td>\n",
              "      <td>please see attached file</td>\n",
              "      <td>0.3182</td>\n",
              "      <td>Positive</td>\n",
              "      <td>1</td>\n",
              "    </tr>\n",
              "    <tr>\n",
              "      <th>3</th>\n",
              "      <td>FAA-2015-6642-0002</td>\n",
              "      <td>Please attach the following grant letter to Pr...</td>\n",
              "      <td>please attach following grant letter prox dyna...</td>\n",
              "      <td>0.7506</td>\n",
              "      <td>Positive</td>\n",
              "      <td>1</td>\n",
              "    </tr>\n",
              "    <tr>\n",
              "      <th>4</th>\n",
              "      <td>FAA-2014-0641-0022</td>\n",
              "      <td>Please see attached Petition of Sky-Futures US...</td>\n",
              "      <td>please see attached petition sky future usa in...</td>\n",
              "      <td>0.3182</td>\n",
              "      <td>Positive</td>\n",
              "      <td>1</td>\n",
              "    </tr>\n",
              "  </tbody>\n",
              "</table>\n",
              "</div>"
            ],
            "text/plain": [
              "              CommectIds  ... Absolute Sentiments\n",
              "0  FINCEN-2017-0013-0023  ...                   1\n",
              "1  FINCEN-2017-0013-0002  ...                   1\n",
              "2  FINCEN-2017-0013-0024  ...                   1\n",
              "3     FAA-2015-6642-0002  ...                   1\n",
              "4     FAA-2014-0641-0022  ...                   1\n",
              "\n",
              "[5 rows x 6 columns]"
            ]
          },
          "metadata": {},
          "execution_count": 55
        }
      ]
    },
    {
      "cell_type": "code",
      "metadata": {
        "colab": {
          "base_uri": "https://localhost:8080/",
          "height": 206
        },
        "id": "LxVc0_75POpN",
        "outputId": "8d74c51d-b2e5-4a07-ede9-2130a7294939"
      },
      "source": [
        "data = data[['Clean Comments','Absolute Sentiments']]\n",
        "data.head()"
      ],
      "execution_count": 28,
      "outputs": [
        {
          "output_type": "execute_result",
          "data": {
            "text/html": [
              "<div>\n",
              "<style scoped>\n",
              "    .dataframe tbody tr th:only-of-type {\n",
              "        vertical-align: middle;\n",
              "    }\n",
              "\n",
              "    .dataframe tbody tr th {\n",
              "        vertical-align: top;\n",
              "    }\n",
              "\n",
              "    .dataframe thead th {\n",
              "        text-align: right;\n",
              "    }\n",
              "</style>\n",
              "<table border=\"1\" class=\"dataframe\">\n",
              "  <thead>\n",
              "    <tr style=\"text-align: right;\">\n",
              "      <th></th>\n",
              "      <th>Clean Comments</th>\n",
              "      <th>Absolute Sentiments</th>\n",
              "    </tr>\n",
              "  </thead>\n",
              "  <tbody>\n",
              "    <tr>\n",
              "      <th>0</th>\n",
              "      <td>dear fincen update money laundering trump klep...</td>\n",
              "      <td>1</td>\n",
              "    </tr>\n",
              "    <tr>\n",
              "      <th>1</th>\n",
              "      <td>gp hello afterwordsi would like toreviewthe pr...</td>\n",
              "      <td>1</td>\n",
              "    </tr>\n",
              "    <tr>\n",
              "      <th>2</th>\n",
              "      <td>please see attached file</td>\n",
              "      <td>1</td>\n",
              "    </tr>\n",
              "    <tr>\n",
              "      <th>3</th>\n",
              "      <td>please attach following grant letter prox dyna...</td>\n",
              "      <td>1</td>\n",
              "    </tr>\n",
              "    <tr>\n",
              "      <th>4</th>\n",
              "      <td>please see attached petition sky future usa in...</td>\n",
              "      <td>1</td>\n",
              "    </tr>\n",
              "  </tbody>\n",
              "</table>\n",
              "</div>"
            ],
            "text/plain": [
              "                                      Clean Comments  Absolute Sentiments\n",
              "0  dear fincen update money laundering trump klep...                    1\n",
              "1  gp hello afterwordsi would like toreviewthe pr...                    1\n",
              "2                           please see attached file                    1\n",
              "3  please attach following grant letter prox dyna...                    1\n",
              "4  please see attached petition sky future usa in...                    1"
            ]
          },
          "metadata": {},
          "execution_count": 28
        }
      ]
    },
    {
      "cell_type": "code",
      "metadata": {
        "id": "A81ePA5CQEcA"
      },
      "source": [
        "comment = train_set[\"Clean Comments\"]\n",
        "sentiment = train_set[\"Absolute Sentiments\"]"
      ],
      "execution_count": 29,
      "outputs": []
    },
    {
      "cell_type": "markdown",
      "metadata": {
        "id": "ZzbSdy-ccupJ"
      },
      "source": [
        "**Split the data into training and testing**"
      ]
    },
    {
      "cell_type": "code",
      "metadata": {
        "id": "Hg9qeb2oRVMX"
      },
      "source": [
        "X_train, X_test, Y_train, Y_test = train_test_split(comment,sentiment, test_size = 0.3, random_state = 60,shuffle=True, stratify=sentiment)"
      ],
      "execution_count": 30,
      "outputs": []
    },
    {
      "cell_type": "markdown",
      "metadata": {
        "id": "fGhlBvDDVl-f"
      },
      "source": [
        "**Navie-Bayes** "
      ]
    },
    {
      "cell_type": "code",
      "metadata": {
        "colab": {
          "base_uri": "https://localhost:8080/"
        },
        "id": "Gx9QY0jKVQ7u",
        "outputId": "44cc6873-1519-400f-99e1-5570490aa168"
      },
      "source": [
        "nb_pipeline = Pipeline([('tfidf', TfidfVectorizer()), ('model', MultinomialNB()),])\n",
        "nb_pipeline.fit(X_train,Y_train)\n",
        "\n",
        "Y_perdict = nb_pipeline.predict(X_test)\n",
        "\n",
        "print(\"Navie Bayes accuracy on train data: \", round(nb_pipeline.score(X_train,Y_train)*100), '%')\n",
        "print(\"Navie Bayes accuracy on test data: \", round(nb_pipeline.score(X_test,Y_test)*100), '%')\n",
        "print(classification_report(Y_perdict, Y_test))"
      ],
      "execution_count": 48,
      "outputs": [
        {
          "output_type": "stream",
          "name": "stdout",
          "text": [
            "Navie Bayes accuracy on train data:  84 %\n",
            "Navie Bayes accuracy on test data:  80 %\n",
            "              precision    recall  f1-score   support\n",
            "\n",
            "          -1       0.00      0.00      0.00         0\n",
            "           0       0.87      0.95      0.91        86\n",
            "           1       0.96      0.71      0.81       143\n",
            "\n",
            "    accuracy                           0.80       229\n",
            "   macro avg       0.61      0.55      0.58       229\n",
            "weighted avg       0.93      0.80      0.85       229\n",
            "\n"
          ]
        },
        {
          "output_type": "stream",
          "name": "stderr",
          "text": [
            "/usr/local/lib/python3.7/dist-packages/sklearn/metrics/_classification.py:1308: UndefinedMetricWarning: Recall and F-score are ill-defined and being set to 0.0 in labels with no true samples. Use `zero_division` parameter to control this behavior.\n",
            "  _warn_prf(average, modifier, msg_start, len(result))\n",
            "/usr/local/lib/python3.7/dist-packages/sklearn/metrics/_classification.py:1308: UndefinedMetricWarning: Recall and F-score are ill-defined and being set to 0.0 in labels with no true samples. Use `zero_division` parameter to control this behavior.\n",
            "  _warn_prf(average, modifier, msg_start, len(result))\n",
            "/usr/local/lib/python3.7/dist-packages/sklearn/metrics/_classification.py:1308: UndefinedMetricWarning: Recall and F-score are ill-defined and being set to 0.0 in labels with no true samples. Use `zero_division` parameter to control this behavior.\n",
            "  _warn_prf(average, modifier, msg_start, len(result))\n"
          ]
        }
      ]
    },
    {
      "cell_type": "markdown",
      "metadata": {
        "id": "xiGNRQLbZA9o"
      },
      "source": [
        "**SVM**"
      ]
    },
    {
      "cell_type": "code",
      "metadata": {
        "colab": {
          "base_uri": "https://localhost:8080/"
        },
        "id": "_D50fyreX8kk",
        "outputId": "6e79e905-ae51-4157-a751-53600472c4b7"
      },
      "source": [
        "svm_pipeline = Pipeline([('tfidf', TfidfVectorizer()),('model', SGDClassifier()),])\n",
        "svm_pipeline.fit(X_train,Y_train)\n",
        "\n",
        "Y_perdict = svm_pipeline.predict(X_test)\n",
        "\n",
        "print(\"Navie Bayes accuracy on train data: \", round(svm_pipeline.score(X_train,Y_train)*100), '%')\n",
        "print(\"Navie Bayes accuracy on test data: \", round(svm_pipeline.score(X_test,Y_test)*100), '%')\n",
        "print(classification_report(Y_perdict, Y_test))"
      ],
      "execution_count": 49,
      "outputs": [
        {
          "output_type": "stream",
          "name": "stdout",
          "text": [
            "Navie Bayes accuracy on train data:  100 %\n",
            "Navie Bayes accuracy on test data:  88 %\n",
            "              precision    recall  f1-score   support\n",
            "\n",
            "          -1       0.47      0.78      0.58        18\n",
            "           0       0.94      0.98      0.96        90\n",
            "           1       0.95      0.83      0.88       121\n",
            "\n",
            "    accuracy                           0.88       229\n",
            "   macro avg       0.79      0.86      0.81       229\n",
            "weighted avg       0.91      0.88      0.89       229\n",
            "\n"
          ]
        }
      ]
    },
    {
      "cell_type": "markdown",
      "metadata": {
        "id": "aAJD5XLeZGqy"
      },
      "source": [
        "**Decision Tree**"
      ]
    },
    {
      "cell_type": "code",
      "metadata": {
        "colab": {
          "base_uri": "https://localhost:8080/"
        },
        "id": "y35rPfn1YiYM",
        "outputId": "7c6a2979-e574-4ae7-b6f5-5cf9989bd5d1"
      },
      "source": [
        "DT_pipeline = Pipeline([('tfidf', TfidfVectorizer()),('model', DecisionTreeClassifier()),])\n",
        "DT_pipeline.fit(X_train,Y_train)\n",
        "\n",
        "Y_perdict = DT_pipeline.predict(X_test)\n",
        "\n",
        "print(\"Navie Bayes accuracy on train data: \", round(DT_pipeline.score(X_train,Y_train)*100), '%')\n",
        "print(\"Navie Bayes accuracy on test data: \", round(DT_pipeline.score(X_test,Y_test)*100), '%')\n",
        "print(classification_report(Y_perdict, Y_test))"
      ],
      "execution_count": 50,
      "outputs": [
        {
          "output_type": "stream",
          "name": "stdout",
          "text": [
            "Navie Bayes accuracy on train data:  100 %\n",
            "Navie Bayes accuracy on test data:  85 %\n",
            "              precision    recall  f1-score   support\n",
            "\n",
            "          -1       0.50      0.65      0.57        23\n",
            "           0       0.95      0.92      0.93        97\n",
            "           1       0.87      0.83      0.85       109\n",
            "\n",
            "    accuracy                           0.85       229\n",
            "   macro avg       0.77      0.80      0.78       229\n",
            "weighted avg       0.86      0.85      0.86       229\n",
            "\n"
          ]
        }
      ]
    },
    {
      "cell_type": "markdown",
      "metadata": {
        "id": "zmO9XYJrZP-u"
      },
      "source": [
        "**Random Forest**"
      ]
    },
    {
      "cell_type": "code",
      "metadata": {
        "colab": {
          "base_uri": "https://localhost:8080/"
        },
        "id": "2m6lUnrLZVeo",
        "outputId": "04594c1c-fc91-447b-a265-e0473bc0d575"
      },
      "source": [
        "RF_pipeline = Pipeline([('tfidf', TfidfVectorizer()),('model', RandomForestClassifier()),])\n",
        "RF_pipeline.fit(X_train,Y_train)\n",
        "\n",
        "Y_perdict = RF_pipeline.predict(X_test)\n",
        "\n",
        "print(\"Navie Bayes accuracy on train data: \", round(RF_pipeline.score(X_train,Y_train)*100), '%')\n",
        "print(\"Navie Bayes accuracy on test data: \", round(RF_pipeline.score(X_test,Y_test)*100), '%')\n",
        "print(classification_report(Y_perdict, Y_test))"
      ],
      "execution_count": 51,
      "outputs": [
        {
          "output_type": "stream",
          "name": "stdout",
          "text": [
            "Navie Bayes accuracy on train data:  100 %\n",
            "Navie Bayes accuracy on test data:  86 %\n",
            "              precision    recall  f1-score   support\n",
            "\n",
            "          -1       0.27      1.00      0.42         8\n",
            "           0       0.93      0.94      0.93        93\n",
            "           1       0.97      0.80      0.88       128\n",
            "\n",
            "    accuracy                           0.86       229\n",
            "   macro avg       0.72      0.91      0.74       229\n",
            "weighted avg       0.93      0.86      0.88       229\n",
            "\n"
          ]
        }
      ]
    },
    {
      "cell_type": "markdown",
      "metadata": {
        "id": "Ta2yVKkRbBVa"
      },
      "source": [
        "**Logistic Regression**"
      ]
    },
    {
      "cell_type": "code",
      "metadata": {
        "colab": {
          "base_uri": "https://localhost:8080/"
        },
        "id": "Gfh3w-SWbF4P",
        "outputId": "7a3345ec-7f19-4b25-bb6e-d99fc02805db"
      },
      "source": [
        "LR_pipeline = Pipeline([('tfidf', TfidfVectorizer()),('model', LogisticRegression()),])\n",
        "LR_pipeline.fit(X_train,Y_train)\n",
        "\n",
        "Y_perdict = LR_pipeline.predict(X_test)\n",
        "\n",
        "print(\"Navie Bayes accuracy on train data: \", round(LR_pipeline.score(X_train,Y_train)*100), '%')\n",
        "print(\"Navie Bayes accuracy on test data: \", round(LR_pipeline.score(X_test,Y_test)*100), '%')\n",
        "print(classification_report(Y_perdict, Y_test))"
      ],
      "execution_count": 52,
      "outputs": [
        {
          "output_type": "stream",
          "name": "stdout",
          "text": [
            "Navie Bayes accuracy on train data:  89 %\n",
            "Navie Bayes accuracy on test data:  85 %\n",
            "              precision    recall  f1-score   support\n",
            "\n",
            "          -1       0.30      0.90      0.45        10\n",
            "           0       0.87      0.99      0.93        83\n",
            "           1       0.98      0.76      0.85       136\n",
            "\n",
            "    accuracy                           0.85       229\n",
            "   macro avg       0.72      0.88      0.74       229\n",
            "weighted avg       0.91      0.85      0.86       229\n",
            "\n"
          ]
        }
      ]
    },
    {
      "cell_type": "markdown",
      "metadata": {
        "id": "v6RXn-tpc6kt"
      },
      "source": [
        "**Reults**"
      ]
    },
    {
      "cell_type": "code",
      "metadata": {
        "id": "fhsNjL0Xc97e"
      },
      "source": [
        "\"\"\"\n",
        "SVM is best fit model for our dataset with the accuracy of 100% on training data\n",
        "and accuracy of 89% on testing data set.\n",
        "\"\"\""
      ],
      "execution_count": null,
      "outputs": []
    }
  ]
}